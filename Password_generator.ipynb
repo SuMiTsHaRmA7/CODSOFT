{
 "cells": [
  {
   "cell_type": "code",
   "execution_count": 1,
   "id": "89b764f8",
   "metadata": {},
   "outputs": [
    {
     "name": "stdout",
     "output_type": "stream",
     "text": [
      "Please enter the length of password you want5\n",
      "-Go8?\n"
     ]
    }
   ],
   "source": [
    "import string\n",
    "str_1 = string.ascii_lowercase\n",
    "str_2 = string.ascii_uppercase\n",
    "str_3 = string.digits\n",
    "str_4 = string.punctuation\n",
    "import random\n",
    "l = int(input(\"Please enter the length of password you want\"))\n",
    "\n",
    "list_1 = []\n",
    "list_1.extend(str(str_1))\n",
    "list_1.extend(str(str_2))\n",
    "list_1.extend(str(str_3))\n",
    "list_1.extend(str(str_4))\n",
    "random.shuffle(list_1)\n",
    "a = (\"\".join(list_1[0:l]))\n",
    "print(a)"
   ]
  },
  {
   "cell_type": "code",
   "execution_count": 38,
   "id": "bc54640a",
   "metadata": {},
   "outputs": [
    {
     "name": "stdout",
     "output_type": "stream",
     "text": [
      "r-31R\\5IW@9G?M<+V|(^:0LksSC#.7ZY*~e/owi2=&4H,tJnFB`fbaxql[Khd_!XpA{;v)}cUz'u6$yT8>E%D\"QNgPjmO]\n"
     ]
    }
   ],
   "source": [
    "print(a)"
   ]
  },
  {
   "cell_type": "code",
   "execution_count": 39,
   "id": "11e46ec3",
   "metadata": {},
   "outputs": [
    {
     "data": {
      "text/plain": [
       "94"
      ]
     },
     "execution_count": 39,
     "metadata": {},
     "output_type": "execute_result"
    }
   ],
   "source": [
    "len(a)"
   ]
  },
  {
   "cell_type": "code",
   "execution_count": null,
   "id": "d3b00892",
   "metadata": {},
   "outputs": [],
   "source": []
  }
 ],
 "metadata": {
  "kernelspec": {
   "display_name": "Python 3 (ipykernel)",
   "language": "python",
   "name": "python3"
  },
  "language_info": {
   "codemirror_mode": {
    "name": "ipython",
    "version": 3
   },
   "file_extension": ".py",
   "mimetype": "text/x-python",
   "name": "python",
   "nbconvert_exporter": "python",
   "pygments_lexer": "ipython3",
   "version": "3.10.9"
  }
 },
 "nbformat": 4,
 "nbformat_minor": 5
}
